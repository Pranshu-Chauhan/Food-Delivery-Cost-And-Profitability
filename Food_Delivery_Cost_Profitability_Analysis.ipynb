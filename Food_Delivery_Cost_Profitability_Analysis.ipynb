{
 "cells": [
  {
   "cell_type": "markdown",
   "metadata": {},
   "source": [
    "# Food Delivery Cost and Profitability Analysis"
   ]
  },
  {
   "cell_type": "markdown",
   "metadata": {},
   "source": [
    "### IMPORTING DATA FROM THE CSV FILE"
   ]
  },
  {
   "cell_type": "code",
   "execution_count": null,
   "metadata": {},
   "outputs": [],
   "source": [
    "# Loading the csv file\n",
    "import pandas\n",
    "food_orders = pandas.read_csv(\"food_orders_new_delhi.csv\")\n",
    "food_orders.head()"
   ]
  },
  {
   "cell_type": "code",
   "execution_count": null,
   "metadata": {},
   "outputs": [],
   "source": [
    "# Showcasing the brief intro of the dataframe\n",
    "food_orders.info()   # type: ignore"
   ]
  },
  {
   "cell_type": "markdown",
   "metadata": {},
   "source": [
    "### DATA PREPARATION"
   ]
  },
  {
   "cell_type": "code",
   "execution_count": null,
   "metadata": {},
   "outputs": [],
   "source": [
    "from datetime import datetime"
   ]
  },
  {
   "cell_type": "code",
   "execution_count": null,
   "metadata": {},
   "outputs": [],
   "source": [
    "# Convert data and time columns to datetime\n",
    "food_orders['Order Date and Time'] = pd.to_datetime(food_orders['Order Date and Time'], format='%d-%m-%Y %H:%M') \n",
    "food_orders['Delivery Date and Time'] = pd.to_datetime(food_orders['Delivery Date and Time'], format='%d-%m-%Y %H:%M')"
   ]
  },
  {
   "cell_type": "code",
   "execution_count": null,
   "metadata": {},
   "outputs": [],
   "source": [
    "# Filling the null values in the 'Discounts and Offers' with '0'\n",
    "food_orders['Discounts and Offers'] = food_orders['Discounts and Offers'].fillna('0')"
   ]
  },
  {
   "cell_type": "code",
   "execution_count": null,
   "metadata": {},
   "outputs": [],
   "source": [
    "# Extract numeric values from the 'Discounts and Offers' string\n",
    "def extract_discount(discount_str):\n",
    "    # Fixed amount off\n",
    "    if 'off' in discount_str:\n",
    "        return float(discount_str.split(' ')[0])\n",
    "    # Percentage off\n",
    "    elif '%' in discount_str:\n",
    "        return float(discount_str.split('%')[0])\n",
    "    # No discount\n",
    "    else:\n",
    "        return 0.0"
   ]
  },
  {
   "cell_type": "code",
   "execution_count": null,
   "metadata": {},
   "outputs": [],
   "source": [
    "# Create Discount Percentage column\n",
    "food_orders['Discount Percentage'] = food_orders['Discounts and Offers'].apply(lambda x: extract_discount(x))\n",
    "\n",
    "# Calculate Discount Amount\n",
    "discount_condition = food_orders['Discount Percentage'] > 1\n",
    "food_orders['Discount Amount'] = food_orders['Order Value'] * food_orders['Discount Percentage'] / 100 * discount_condition\n",
    "\n",
    "# Handle fixed discounts\n",
    "food_orders.loc[food_orders['Discount Percentage'] <= 1, 'Discount Amount'] = food_orders['Discount Percentage']\n",
    "\n",
    "# Print desired columns and data types\n",
    "food_orders[['Order Value', 'Discounts and Offers', 'Discount Percentage', 'Discount Amount']].head()"
   ]
  },
  {
   "cell_type": "code",
   "execution_count": null,
   "metadata": {},
   "outputs": [],
   "source": [
    "# Checking the data types of all columns\n",
    "food_orders.dtypes"
   ]
  },
  {
   "cell_type": "markdown",
   "metadata": {},
   "source": [
    "### PROFITABILITY ANALYSIS"
   ]
  },
  {
   "cell_type": "code",
   "execution_count": null,
   "metadata": {},
   "outputs": [],
   "source": [
    "# calculate total costs and revenue per order\n",
    "food_orders['Total Costs'] = food_orders['Delivery Fee'] + food_orders['Payment Processing Fee'] + food_orders['Discount Amount']\n",
    "food_orders['Revenue'] = food_orders['Commission Fee']\n",
    "food_orders['Profit'] = food_orders['Revenue'] - food_orders['Total Costs']"
   ]
  },
  {
   "cell_type": "code",
   "execution_count": null,
   "metadata": {},
   "outputs": [],
   "source": [
    "# aggregate data to get overall metrics\n",
    "total_orders = food_orders.shape[0]\n",
    "total_revenue = food_orders['Revenue'].sum()\n",
    "total_costs = food_orders['Total Costs'].sum()\n",
    "total_profit = food_orders['Profit'].sum()"
   ]
  },
  {
   "cell_type": "code",
   "execution_count": null,
   "metadata": {},
   "outputs": [],
   "source": [
    "# Overall Metrics\n",
    "overall_metrics = {\n",
    "    \"Total Orders\": total_orders,\n",
    "    \"Total Revenue\": total_revenue,\n",
    "    \"Total Costs\": total_costs,\n",
    "    \"Total Profit\": total_profit\n",
    "}\n",
    "\n",
    "overall_metrics"
   ]
  },
  {
   "cell_type": "markdown",
   "metadata": {},
   "source": [
    "### DATA VISUALISATION"
   ]
  },
  {
   "cell_type": "code",
   "execution_count": null,
   "metadata": {},
   "outputs": [],
   "source": [
    "# Profit Distribution per order \n",
    "import matplotlib\n",
    "from matplotlib import pyplot as plt \n",
    "\n",
    "# histogram of profits per order\n",
    "plt.figure(figsize=(10, 6))\n",
    "plt.hist(food_orders['Profit'], bins=50, color='skyblue', edgecolor='black')\n",
    "plt.title('Profit Distribution per Order in Food Delivery')\n",
    "plt.xlabel('Profit')\n",
    "plt.ylabel('Number of Orders')\n",
    "plt.axvline(food_orders['Profit'].mean(), color='red', linestyle='dashed', linewidth=1)\n",
    "plt.show()"
   ]
  },
  {
   "cell_type": "code",
   "execution_count": null,
   "metadata": {},
   "outputs": [],
   "source": [
    "# pie chart for the proportion of total costs\n",
    "costs_breakdown = food_orders[['Delivery Fee', 'Payment Processing Fee', 'Discount Amount']].sum()\n",
    "plt.figure(figsize=(7, 7))\n",
    "plt.pie(costs_breakdown, labels=costs_breakdown.index, autopct='%1.1f%%', startangle=140, colors=['tomato', 'gold', 'lightblue'])\n",
    "plt.title('Proportion of Total Costs in Food Delivery')\n",
    "plt.show()"
   ]
  },
  {
   "cell_type": "code",
   "execution_count": null,
   "metadata": {},
   "outputs": [],
   "source": [
    "# bar chart for total revenue, costs, and profit\n",
    "totals = ['Total Revenue', 'Total Costs', 'Total Profit']\n",
    "values = [total_revenue, total_costs, total_profit]\n",
    "\n",
    "plt.figure(figsize=(8, 6))\n",
    "plt.bar(totals, values, color=['gold', 'green', 'red'])\n",
    "plt.title('Total Revenue, Costs, and Profit')\n",
    "plt.ylabel('Amount (INR)')\n",
    "plt.show()"
   ]
  },
  {
   "cell_type": "markdown",
   "metadata": {},
   "source": [
    "### FINDING NEW AVERAGES OF DISCOUNTS AND CHARGING COMMISSIONS"
   ]
  },
  {
   "cell_type": "code",
   "execution_count": null,
   "metadata": {},
   "outputs": [],
   "source": [
    "# filter the dataset for profitable orders\n",
    "profitable_orders = food_orders[food_orders['Profit'] > 0]"
   ]
  },
  {
   "cell_type": "code",
   "execution_count": null,
   "metadata": {},
   "outputs": [],
   "source": [
    "# calculate the average commission percentage for profitable orders\n",
    "profitable_orders['Commission Percentage'] = (profitable_orders['Commission Fee'] / profitable_orders['Order Value']) * 100"
   ]
  },
  {
   "cell_type": "code",
   "execution_count": null,
   "metadata": {},
   "outputs": [],
   "source": [
    "# calculate the average discount percentage for profitable orders\n",
    "8\n",
    "profitable_orders['Effective Discount Percentage'] = (profitable_orders['Discount Amount'] / profitable_orders['Order Value']) * 100"
   ]
  },
  {
   "cell_type": "code",
   "execution_count": null,
   "metadata": {},
   "outputs": [],
   "source": [
    "# calculate the new averages\n",
    "new_avg_commission_percentage = profitable_orders['Commission Percentage'].mean()\n",
    "new_avg_discount_percentage = profitable_orders['Effective Discount Percentage'].mean()"
   ]
  },
  {
   "cell_type": "code",
   "execution_count": null,
   "metadata": {},
   "outputs": [],
   "source": [
    "print(new_avg_commission_percentage, new_avg_discount_percentage)"
   ]
  },
  {
   "cell_type": "markdown",
   "metadata": {},
   "source": [
    "### PROFITABILITY ANALYSIS WITH PROFITABLE VALUES "
   ]
  },
  {
   "cell_type": "code",
   "execution_count": null,
   "metadata": {},
   "outputs": [],
   "source": [
    "# simulate profitability with recommended discounts and commissions\n",
    "recommended_commission_percentage = 30.0  # 30%\n",
    "recommended_discount_percentage = 6.0    # 6%"
   ]
  },
  {
   "cell_type": "code",
   "execution_count": null,
   "metadata": {},
   "outputs": [],
   "source": [
    "# calculate the simulated commission fee and discount amount using recommended percentages\n",
    "food_orders['Simulated Commission Fee'] = food_orders['Order Value'] * (recommended_commission_percentage / 100)\n",
    "food_orders['Simulated Discount Amount'] = food_orders['Order Value'] * (recommended_discount_percentage / 100)"
   ]
  },
  {
   "cell_type": "code",
   "execution_count": null,
   "metadata": {},
   "outputs": [],
   "source": [
    "# recalculate total costs and profit with simulated values\n",
    "food_orders['Simulated Total Costs'] = (food_orders['Delivery Fee'] + food_orders['Payment Processing Fee'] + food_orders['Simulated Discount Amount'])"
   ]
  },
  {
   "cell_type": "code",
   "execution_count": null,
   "metadata": {},
   "outputs": [],
   "source": [
    "food_orders['Simulated Profit'] = (food_orders['Simulated Commission Fee'] - food_orders['Simulated Total Costs'])"
   ]
  },
  {
   "cell_type": "code",
   "execution_count": null,
   "metadata": {},
   "outputs": [],
   "source": [
    "print(food_orders)"
   ]
  },
  {
   "cell_type": "markdown",
   "metadata": {},
   "source": [
    "### PROFITABILITY ANALYSIS"
   ]
  },
  {
   "cell_type": "code",
   "execution_count": null,
   "metadata": {},
   "outputs": [],
   "source": [
    "# Calculate total costs and revenue per order\n",
    "food_orders['New Total Costs'] = food_orders['Delivery Fee'] + food_orders['Payment Processing Fee'] + food_orders['Simulated Discount Amount']\n",
    "food_orders['New Revenue'] = food_orders['Simulated Commission Fee']\n",
    "food_orders['New Profit'] = food_orders['New Revenue'] - food_orders['Simulated Total Costs']"
   ]
  },
  {
   "cell_type": "code",
   "execution_count": null,
   "metadata": {},
   "outputs": [],
   "source": [
    "# Aggregate data to get overall metrics\n",
    "new_total_revenue = food_orders['New Revenue'].sum()\n",
    "new_total_costs = food_orders['New Total Costs'].sum()\n",
    "new_total_profit = food_orders['New Profit'].sum()"
   ]
  },
  {
   "cell_type": "code",
   "execution_count": null,
   "metadata": {},
   "outputs": [],
   "source": [
    "# Overall Metrics\n",
    "overall_metrics = {\n",
    "    \"Total Orders\": total_orders,\n",
    "    \"Total Revenue\": new_total_revenue, #type: ignore \n",
    "    \"Total Costs\": new_total_costs,     #type: ignore \n",
    "    \"Total Profit\": new_total_profit    #type: ignore \n",
    "}\n",
    "\n",
    "print(overall_metrics)"
   ]
  },
  {
   "cell_type": "markdown",
   "metadata": {},
   "source": [
    "### VISUALISATION"
   ]
  },
  {
   "cell_type": "code",
   "execution_count": null,
   "metadata": {},
   "outputs": [],
   "source": [
    "# Histogram of profits per order\n",
    "plt.figure(figsize=(10, 6))\n",
    "plt.hist(food_orders['Simulated Profit'], bins=50, color='skyblue', edgecolor='black')\n",
    "plt.title('Profit Distribution per Order in Food Delivery')\n",
    "plt.xlabel('Profit')\n",
    "plt.ylabel('Number of Orders')\n",
    "plt.axvline(food_orders['Simulated Profit'].mean(), color='red', linestyle='dashed', linewidth=1)\n",
    "plt.show()"
   ]
  },
  {
   "cell_type": "code",
   "execution_count": null,
   "metadata": {},
   "outputs": [],
   "source": [
    "# Pie chart for the proportion of total costs\n",
    "costs_breakdown = food_orders[['Delivery Fee', 'Payment Processing Fee', 'Simulated Discount Amount']].sum()\n",
    "plt.figure(figsize=(7, 7))\n",
    "plt.pie(costs_breakdown, labels=costs_breakdown.index, autopct='%1.1f%%', startangle=140, colors=['tomato', 'gold', 'lightblue'])\n",
    "plt.title('Proportion of Total Costs in Food Delivery')\n",
    "plt.show()"
   ]
  },
  {
   "cell_type": "code",
   "execution_count": null,
   "metadata": {},
   "outputs": [],
   "source": [
    "# Bar chart for total revenue, costs, and profit\n",
    "totals = ['Simulated Total Revenue', 'Simulated Total Costs', 'Simulated Total Profit']\n",
    "values = [new_total_revenue, new_total_costs, new_total_profit]  # type: ignore\n",
    "\n",
    "plt.figure(figsize=(8, 6))\n",
    "plt.bar(totals, values, color=['gold', 'green', 'red'])\n",
    "plt.title('Simulated Total Revenue, Simulated Total Costs, and Simulated Total Profit')\n",
    "plt.ylabel('Amount (INR)')\n",
    "plt.show()"
   ]
  },
  {
   "cell_type": "markdown",
   "metadata": {},
   "source": [
    "## Visualizing Comparison"
   ]
  },
  {
   "cell_type": "code",
   "execution_count": null,
   "metadata": {},
   "outputs": [],
   "source": [
    "# Visualizing the comparison\n",
    "import seaborn as sns\n",
    "\n",
    "plt.figure(figsize=(14, 7))\n",
    "\n",
    "# Actual profitability\n",
    "sns.kdeplot(food_orders['Profit'], label='Actual Profitability', fill=True, alpha=0.5, linewidth=2)\n",
    "\n",
    "# Simulated profitability\n",
    "sns.kdeplot(food_orders['Simulated Profit'], label='Estimated Profitability with Recommended Rates', fill=True, alpha=0.5, linewidth=2)\n",
    "\n",
    "plt.title('Comparison of Profitability in Food Delivery: Actual vs. Recommended Discounts and Commissions')\n",
    "plt.xlabel('Profit')\n",
    "plt.ylabel('Density')\n",
    "plt.legend(loc='upper left')\n",
    "plt.show()"
   ]
  }
 ],
 "metadata": {
  "kernelspec": {
   "display_name": "Python 3",
   "language": "python",
   "name": "python3"
  },
  "language_info": {
   "codemirror_mode": {
    "name": "ipython",
    "version": 3
   },
   "file_extension": ".py",
   "mimetype": "text/x-python",
   "name": "python",
   "nbconvert_exporter": "python",
   "pygments_lexer": "ipython3",
   "version": "3.12.2"
  }
 },
 "nbformat": 4,
 "nbformat_minor": 2
}
